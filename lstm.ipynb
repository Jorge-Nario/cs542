{
 "cells": [
  {
   "cell_type": "code",
   "execution_count": 1,
   "metadata": {
    "_cell_guid": "b1076dfc-b9ad-4769-8c92-a6c4dae69d19",
    "_uuid": "8f2839f25d086af736a60e9eeb907d3b93b6e0e5",
    "collapsed": true,
    "scrolled": false
   },
   "outputs": [],
   "source": [
    "import numpy as np \n",
    "import pandas as pd \n",
    "import matplotlib.pyplot as plt\n",
    "import gc\n",
    "from sklearn.preprocessing import StandardScaler\n",
    "from datetime import datetime, timedelta\n",
    "from keras.callbacks import EarlyStopping, ModelCheckpoint\n",
    "from keras.models import Sequential\n",
    "from keras.layers import Dense, BatchNormalization, Dropout, LSTM, GRU, Activation\n",
    "from keras.losses import mse"
   ]
  },
  {
   "cell_type": "code",
   "execution_count": 2,
   "metadata": {
    "_uuid": "94b989400f8bfd33eeca59f2eaf98227324815d6"
   },
   "outputs": [
    {
     "name": "stdout",
     "output_type": "stream",
     "text": [
      "Loading the data... This could take a minute.\n",
      "Done!\n"
     ]
    }
   ],
   "source": [
    "from kaggle.competitions import twosigmanews\n",
    "env = twosigmanews.make_env()"
   ]
  },
  {
   "cell_type": "code",
   "execution_count": 3,
   "metadata": {
    "_uuid": "51fb38cf0d1cff3a409f0c6ab793da5d67d52019",
    "collapsed": true
   },
   "outputs": [],
   "source": [
    "(market_data, news_data) = env.get_training_data()"
   ]
  },
  {
   "cell_type": "code",
   "execution_count": 4,
   "metadata": {
    "_uuid": "fb36481729be66b74dc680a7445623eae987ad94",
    "scrolled": true
   },
   "outputs": [
    {
     "data": {
      "text/html": [
       "<div>\n",
       "<style scoped>\n",
       "    .dataframe tbody tr th:only-of-type {\n",
       "        vertical-align: middle;\n",
       "    }\n",
       "\n",
       "    .dataframe tbody tr th {\n",
       "        vertical-align: top;\n",
       "    }\n",
       "\n",
       "    .dataframe thead th {\n",
       "        text-align: right;\n",
       "    }\n",
       "</style>\n",
       "<table border=\"1\" class=\"dataframe\">\n",
       "  <thead>\n",
       "    <tr style=\"text-align: right;\">\n",
       "      <th></th>\n",
       "      <th>time</th>\n",
       "      <th>assetCode</th>\n",
       "      <th>assetName</th>\n",
       "      <th>volume</th>\n",
       "      <th>close</th>\n",
       "      <th>open</th>\n",
       "      <th>returnsClosePrevRaw1</th>\n",
       "      <th>returnsOpenPrevRaw1</th>\n",
       "      <th>returnsClosePrevMktres1</th>\n",
       "      <th>returnsOpenPrevMktres1</th>\n",
       "      <th>returnsClosePrevRaw10</th>\n",
       "      <th>returnsOpenPrevRaw10</th>\n",
       "      <th>returnsClosePrevMktres10</th>\n",
       "      <th>returnsOpenPrevMktres10</th>\n",
       "      <th>returnsOpenNextMktres10</th>\n",
       "      <th>universe</th>\n",
       "    </tr>\n",
       "  </thead>\n",
       "  <tbody>\n",
       "    <tr>\n",
       "      <th>0</th>\n",
       "      <td>2009-01-02 22:00:00+00:00</td>\n",
       "      <td>A.N</td>\n",
       "      <td>Agilent Technologies Inc</td>\n",
       "      <td>3030118.0</td>\n",
       "      <td>16.24</td>\n",
       "      <td>15.60</td>\n",
       "      <td>0.039028</td>\n",
       "      <td>0.045576</td>\n",
       "      <td>0.029112</td>\n",
       "      <td>0.042122</td>\n",
       "      <td>-0.005511</td>\n",
       "      <td>-0.037037</td>\n",
       "      <td>-0.026992</td>\n",
       "      <td>-0.033293</td>\n",
       "      <td>0.179633</td>\n",
       "      <td>1.0</td>\n",
       "    </tr>\n",
       "    <tr>\n",
       "      <th>1</th>\n",
       "      <td>2009-01-02 22:00:00+00:00</td>\n",
       "      <td>AAI.N</td>\n",
       "      <td>AirTran Holdings Inc</td>\n",
       "      <td>1551494.0</td>\n",
       "      <td>4.51</td>\n",
       "      <td>4.36</td>\n",
       "      <td>0.015766</td>\n",
       "      <td>-0.035398</td>\n",
       "      <td>-0.018756</td>\n",
       "      <td>-0.047927</td>\n",
       "      <td>0.127500</td>\n",
       "      <td>0.141361</td>\n",
       "      <td>0.110937</td>\n",
       "      <td>0.144485</td>\n",
       "      <td>0.048476</td>\n",
       "      <td>0.0</td>\n",
       "    </tr>\n",
       "    <tr>\n",
       "      <th>2</th>\n",
       "      <td>2009-01-02 22:00:00+00:00</td>\n",
       "      <td>AAP.N</td>\n",
       "      <td>Advance Auto Parts Inc</td>\n",
       "      <td>795900.0</td>\n",
       "      <td>34.14</td>\n",
       "      <td>33.86</td>\n",
       "      <td>0.014562</td>\n",
       "      <td>0.022652</td>\n",
       "      <td>-0.010692</td>\n",
       "      <td>0.009156</td>\n",
       "      <td>0.035283</td>\n",
       "      <td>0.047398</td>\n",
       "      <td>-0.005260</td>\n",
       "      <td>0.054363</td>\n",
       "      <td>0.029782</td>\n",
       "      <td>1.0</td>\n",
       "    </tr>\n",
       "    <tr>\n",
       "      <th>3</th>\n",
       "      <td>2009-01-02 22:00:00+00:00</td>\n",
       "      <td>AAPL.O</td>\n",
       "      <td>Apple Inc</td>\n",
       "      <td>26964210.0</td>\n",
       "      <td>90.75</td>\n",
       "      <td>85.58</td>\n",
       "      <td>0.063269</td>\n",
       "      <td>-0.004884</td>\n",
       "      <td>0.033274</td>\n",
       "      <td>-0.015174</td>\n",
       "      <td>0.017833</td>\n",
       "      <td>-0.059560</td>\n",
       "      <td>-0.029117</td>\n",
       "      <td>-0.051910</td>\n",
       "      <td>-0.026166</td>\n",
       "      <td>1.0</td>\n",
       "    </tr>\n",
       "    <tr>\n",
       "      <th>4</th>\n",
       "      <td>2009-01-02 22:00:00+00:00</td>\n",
       "      <td>AB.N</td>\n",
       "      <td>AllianceBernstein Holding LP</td>\n",
       "      <td>661549.0</td>\n",
       "      <td>21.25</td>\n",
       "      <td>20.98</td>\n",
       "      <td>0.022126</td>\n",
       "      <td>0.095561</td>\n",
       "      <td>-0.054235</td>\n",
       "      <td>0.055434</td>\n",
       "      <td>0.074317</td>\n",
       "      <td>0.085360</td>\n",
       "      <td>-0.042303</td>\n",
       "      <td>0.107932</td>\n",
       "      <td>0.046983</td>\n",
       "      <td>1.0</td>\n",
       "    </tr>\n",
       "  </tbody>\n",
       "</table>\n",
       "</div>"
      ],
      "text/plain": [
       "                       time   ...    universe\n",
       "0 2009-01-02 22:00:00+00:00   ...         1.0\n",
       "1 2009-01-02 22:00:00+00:00   ...         0.0\n",
       "2 2009-01-02 22:00:00+00:00   ...         1.0\n",
       "3 2009-01-02 22:00:00+00:00   ...         1.0\n",
       "4 2009-01-02 22:00:00+00:00   ...         1.0\n",
       "\n",
       "[5 rows x 16 columns]"
      ]
     },
     "execution_count": 4,
     "metadata": {},
     "output_type": "execute_result"
    }
   ],
   "source": [
    "start = datetime(2009, 1, 1, 0, 0, 0).date()\n",
    "market_data = market_data.loc[market_data['time'].dt.date >= start].reset_index(drop=True)\n",
    "\n",
    "del news_data\n",
    "gc.collect()\n",
    "\n",
    "market_data.head()"
   ]
  },
  {
   "cell_type": "code",
   "execution_count": 5,
   "metadata": {
    "_uuid": "28085edd68e67f6febe9137e7e448e263604e85c",
    "collapsed": true
   },
   "outputs": [],
   "source": [
    "def market_data_preprocessing(market_data, cols):\n",
    "    \n",
    "    market_data['time'] = market_data['time'].dt.floor('1D')\n",
    "    \n",
    "    market_data.loc[:, cols] = market_data.loc[:, cols].fillna(0)\n",
    "    \n",
    "    for i in range(len(cols)):\n",
    "        market_data = market_data[np.abs(market_data[cols[i]]-market_data[cols[i]].mean()) <= (3 * market_data[cols[i]].std())]\n",
    "        \n",
    "    market_data.returnsOpenNextMktres10 = market_data.returnsOpenNextMktres10.clip(-1, 1)\n",
    "    \n",
    "    market_data['label'] = market_data.returnsOpenNextMktres10.map(lambda x: 0 if x < 0 else 1)\n",
    "    \n",
    "    market_data['assetCodeSplit'] = market_data['assetCode']\n",
    "    \n",
    "    map_split = {}\n",
    "    for i in market_data['assetCode'].unique():\n",
    "        a, splits = i.split('.')\n",
    "        map_split[i] = splits\n",
    "    market_data['assetCodeSplit'] = market_data['assetCodeSplit'].map(map_split)\n",
    "    \n",
    "    one_hot_df = pd.get_dummies(market_data['assetCodeSplit'].astype(str))\n",
    "    market_data.drop(columns = ['assetCodeSplit'], inplace=True)\n",
    "    market_data = pd.concat([market_data, one_hot_df], axis=1)\n",
    "    \n",
    "    return market_data"
   ]
  },
  {
   "cell_type": "code",
   "execution_count": 7,
   "metadata": {
    "_uuid": "ce3206f22e493a480dfe82fbc63a6e9cacd23265",
    "collapsed": true
   },
   "outputs": [],
   "source": [
    "market_data = market_data_preprocessing(market_data, [col for col in market_data.columns if col not in ['universe', 'time', 'assetCode', 'assetName']])\n",
    "market_data.sort_values(by=['time'], inplace=True)"
   ]
  },
  {
   "cell_type": "code",
   "execution_count": 8,
   "metadata": {
    "_uuid": "72d3ddc09dfed8bfe8eb16cb6716cdd9b67d34c4"
   },
   "outputs": [
    {
     "name": "stderr",
     "output_type": "stream",
     "text": [
      "/opt/conda/lib/python3.6/site-packages/sklearn/preprocessing/data.py:625: DataConversionWarning: Data with input dtype uint8, float64 were all converted to float64 by StandardScaler.\n",
      "  return self.partial_fit(X, y)\n",
      "/opt/conda/lib/python3.6/site-packages/sklearn/base.py:462: DataConversionWarning: Data with input dtype uint8, float64 were all converted to float64 by StandardScaler.\n",
      "  return self.fit(X, **fit_params).transform(X)\n"
     ]
    }
   ],
   "source": [
    "cols = [col for col in market_data.columns if col not in ['time','assetCode', 'universe', 'label', 'assetName',\n",
    "                                                               'assetCode_exchange_A', 'assetCode_exchange_N', 'assetCode_exchange_O',\n",
    "                                                               'assetCode_exchange_OB', 'assetCode_exchange_UNKNOWN', 'returnsOpenNextMktres10']]\n",
    "std_scaler = StandardScaler(copy=False)\n",
    "market_data[cols] = market_data[cols].fillna(0)\n",
    "market_data.loc[:, cols] = std_scaler.fit_transform(market_data.loc[:, cols])"
   ]
  },
  {
   "cell_type": "code",
   "execution_count": 9,
   "metadata": {
    "_uuid": "f3ab2744c58e3eb52cf7e216a615be2284169364",
    "collapsed": true
   },
   "outputs": [],
   "source": [
    "class SequenceGenerator:\n",
    "    def __init__(self, market_data, cols, train=True):\n",
    "        self.market_data = market_data\n",
    "        self.cols = cols\n",
    "        self.train = train\n",
    "        \n",
    "        self.batch_size = 100000\n",
    "        self.window = 10\n",
    "\n",
    "    def generate(self):\n",
    "        \n",
    "        while True:\n",
    "            \n",
    "            X, y, returns, date, universe = [], [], [], [], []\n",
    "            \n",
    "            for a, data in self.market_data.groupby(['assetCode'], sort=False):\n",
    "                \n",
    "                data = data.sort_values(by=['time'])\n",
    "                num_sequences = data.shape[0] - self.window \n",
    "                \n",
    "                for seq in range(num_sequences):\n",
    "    \n",
    "                    returns.append(data.returnsOpenNextMktres10.iloc[seq+self.window-1])\n",
    "                    date.append(data.time.iloc[seq+self.window-1])\n",
    "                    universe.append(data.universe.iloc[seq+self.window-1])\n",
    "                    X.append(data[self.cols].iloc[seq:seq+self.window].values)\n",
    "                    y.append(data.label.iloc[seq+self.window-1])\n",
    "                    \n",
    "                    if len(X) == self.batch_size: \n",
    "                        X_, y_,returns_, date_, universe_ = np.array(X), np.array(y), np.array(returns),np.array(date), np.array(universe)\n",
    "                        X, y, returns, date, universe = [], [], [], [], []\n",
    "                        \n",
    "                        if self.train:\n",
    "                            yield X_, y_\n",
    "                        else:\n",
    "                            yield X_, y_, returns_, date_, universe_\n",
    "                            \n",
    "    def steps(self):\n",
    "        # get number of steps per epoch\n",
    "        steps = 0\n",
    "        for _, data in self.market_data.groupby(['assetCode'], sort=False):\n",
    "            num_sequences = data.shape[0] - self.window \n",
    "            steps += num_sequences // self.batch_size\n",
    "        return steps"
   ]
  },
  {
   "cell_type": "code",
   "execution_count": 10,
   "metadata": {
    "_uuid": "c346078dd20f3ba35e5f9a2c8943d7c7d81da9df",
    "collapsed": true
   },
   "outputs": [],
   "source": [
    "def split(*market_data, test_size=0.25):\n",
    "    splits = []\n",
    "    for i in range(len(market_data)):\n",
    "        limit = int(len(market_data[i]) * (1 - test_size))\n",
    "        splits.append(data[limit+1000:].copy())\n",
    "        splits.append(data[:limit].copy())\n",
    "    return sets\n",
    "\n",
    "train_df, val_df = split(market_data)"
   ]
  },
  {
   "cell_type": "code",
   "execution_count": 11,
   "metadata": {
    "_uuid": "c4417c596336ded16eaf01d9978fb8f2282fb624",
    "collapsed": true
   },
   "outputs": [],
   "source": [
    "cols = [col for col in market_data.columns if col not in ['time','assetCode', 'universe', 'label', 'assetName', 'returnsOpenNextMktres10']]\n",
    "train_gen = SequenceGenerator(train_df, cols)\n",
    "test_gen = SequenceGenerator(val_df, cols)\n",
    "train_steps = train_gen.steps()\n",
    "test_steps = test_gen.steps()"
   ]
  },
  {
   "cell_type": "code",
   "execution_count": 12,
   "metadata": {
    "_uuid": "4b75b61cd38d819405a5cfb4a5ca47a8326c4f3d",
    "scrolled": true
   },
   "outputs": [
    {
     "name": "stderr",
     "output_type": "stream",
     "text": [
      "Using TensorFlow backend.\n"
     ]
    }
   ],
   "source": [
    "model = Sequential()\n",
    "model.add(LSTM(128, input_shape=(10, len(cols))))\n",
    "model.add(Activation('relu'))\n",
    "model.add(Dense(64))\n",
    "model.add(Activation('tanh'))\n",
    "model.add(Dense(1))\n",
    "model.add(Activation('sigmoid'))\n",
    "\n",
    "model.compile(optimizer='adam',loss='mse', metrics=['accuracy'])"
   ]
  },
  {
   "cell_type": "code",
   "execution_count": 13,
   "metadata": {
    "_uuid": "2a0ce6abb6ca699337dabd20cae8f921de3c3f60",
    "scrolled": true
   },
   "outputs": [
    {
     "name": "stdout",
     "output_type": "stream",
     "text": [
      "Epoch 1/1\n",
      "15236/15236 [==============================] - 2508s 165ms/step - loss: 0.2493 - acc: 0.5496 - val_loss: 0.2470 - val_acc: 0.5450\n",
      "\n",
      "Epoch 00001: val_loss improved from inf to 0.24698, saving model to model.hdf5\n"
     ]
    },
    {
     "data": {
      "text/plain": [
       "<keras.callbacks.History at 0x7f9de0cdf0b8>"
      ]
     },
     "execution_count": 13,
     "metadata": {},
     "output_type": "execute_result"
    }
   ],
   "source": [
    "check_point = ModelCheckpoint('model.hdf5',verbose=True, save_best_only=True)\n",
    "early_stop = EarlyStopping(patience=5,verbose=True)\n",
    "model.fit_generator(train_gen.generate(), validation_data=test_gen.generate(),epochs=1,steps_per_epoch=train_steps, validation_steps=test_steps,callbacks=[early_stop,check_point]) "
   ]
  }
 ],
 "metadata": {
  "kernelspec": {
   "display_name": "Python 2",
   "language": "python",
   "name": "python2"
  },
  "language_info": {
   "codemirror_mode": {
    "name": "ipython",
    "version": 2
   },
   "file_extension": ".py",
   "mimetype": "text/x-python",
   "name": "python",
   "nbconvert_exporter": "python",
   "pygments_lexer": "ipython2",
   "version": "2.7.14"
  }
 },
 "nbformat": 4,
 "nbformat_minor": 1
}
